{
  "nbformat": 4,
  "nbformat_minor": 0,
  "metadata": {
    "kernelspec": {
      "display_name": "Python 3",
      "language": "python",
      "name": "python3"
    },
    "language_info": {
      "codemirror_mode": {
        "name": "ipython",
        "version": 3
      },
      "file_extension": ".py",
      "mimetype": "text/x-python",
      "name": "python",
      "nbconvert_exporter": "python",
      "pygments_lexer": "ipython3",
      "version": "3.7.6"
    },
    "colab": {
      "provenance": [],
      "collapsed_sections": [
        "PN4tHfiyZPE4"
      ]
    }
  },
  "cells": [
    {
      "cell_type": "markdown",
      "metadata": {
        "id": "lHy4uZA9ZPEZ"
      },
      "source": [
        "# LR BY Hand\n",
        "# Using Least Squares Method\n",
        "\n",
        "y = a + bx\n",
        "\n",
        "\n",
        "b = sum((x(i) - mean(x)) * (y(i) - mean(y))) / sum( (x(i) - mean(x))^2 )\n",
        "\n",
        "\n",
        "OR\n",
        "\n",
        "\n",
        "b = covariance(x,y) / variance(x)\n",
        "\n",
        "a = mean(y) - b * mean(x)"
      ]
    },
    {
      "cell_type": "markdown",
      "metadata": {
        "id": "ejOgOjtbhQVC"
      },
      "source": [
        "# Covariance (x,y) :\n",
        "\n",
        "- It is a value of how y changes as per change in x\n",
        "\n",
        "- it is sum of product of (x-mean_x) and (y-mean_y)\n",
        "\n",
        "# Variance (x) :\n",
        "\n",
        "- It is how x varies wrt itself\n",
        "\n",
        "- it is sum of square of (x - mean_x)"
      ]
    },
    {
      "cell_type": "code",
      "metadata": {
        "id": "UJZ6kHDRZPEl"
      },
      "source": [
        "import pandas as pd"
      ],
      "execution_count": null,
      "outputs": []
    },
    {
      "cell_type": "code",
      "metadata": {
        "id": "GlK6Zk8aZPEn"
      },
      "source": [
        "from math import sqrt\n",
        "\n",
        "# Calculate the mean value of a list of numbers\n",
        "def mean(values):\n",
        "    return sum(values) / float(len(values))\n",
        "\n",
        "# Calculate covariance between x and y\n",
        "def covariance(x, mean_x, y, mean_y):\n",
        "    covar = 0.0\n",
        "    for i in range(len(x)):\n",
        "        covar += (x[i] - mean_x) * (y[i] - mean_y)\n",
        "    return covar\n",
        "\n",
        "# Calculate the variance of a list of numbers\n",
        "def variance(values, mean):\n",
        "    return sum([(x - mean)**2 for x in values])"
      ],
      "execution_count": null,
      "outputs": []
    },
    {
      "cell_type": "markdown",
      "metadata": {
        "id": "X5XlWyZPkfAA"
      },
      "source": [
        "# Training of linear regression model"
      ]
    },
    {
      "cell_type": "code",
      "metadata": {
        "id": "Yz6cJUyDZPEn"
      },
      "source": [
        "# Calculate coefficients\n",
        "def coefficients(dataset):\n",
        "    x = [row[0] for row in dataset]\n",
        "    y = [row[1] for row in dataset]\n",
        "    x_mean, y_mean = mean(x), mean(y)\n",
        "    # General equation of Linear regression is::\n",
        "    # y = b0 + b1 * x1 + b2 * x2 + b3 * x3 ....\n",
        "    # Here only x1 is present\n",
        "    # Coefficient / Slope of the line b1 / B / M\n",
        "    b1 = covariance(x, x_mean, y, y_mean) / variance(x, x_mean)\n",
        "    # m=b1\n",
        "    # Intercept b0 / C / A\n",
        "    b0 = y_mean - b1 * x_mean\n",
        "    # c = b0\n",
        "    return [b0, b1]\n",
        "    # return [c , m]"
      ],
      "execution_count": null,
      "outputs": []
    },
    {
      "cell_type": "code",
      "metadata": {
        "id": "x5ki4pN2ZPEo"
      },
      "source": [
        "# Simple linear regression algorithm\n",
        "def simple_linear_regression(train, test):\n",
        "    predictions = list()\n",
        "    b0, b1 = coefficients(train)\n",
        "    print(\"Coefficients after Training are b0 =\", b0, \" b1=\", b1)\n",
        "    for row in test:\n",
        "        yhat = b0 + b1 * row[0] # Calculate the prediction\n",
        "        predictions.append(yhat)\n",
        "    return predictions"
      ],
      "execution_count": null,
      "outputs": []
    },
    {
      "cell_type": "code",
      "metadata": {
        "id": "uZWgJco0ZPEp"
      },
      "source": [
        "# Calculate root mean squared error\n",
        "def rmse_metric(actual, predicted):\n",
        "    sum_error = 0.0\n",
        "    for i in range(len(actual)):\n",
        "        prediction_error = actual[i] - predicted[i]\n",
        "        sum_error += (prediction_error ** 2)\n",
        "    mean_error = sum_error / float(len(actual))\n",
        "    return sqrt(mean_error)"
      ],
      "execution_count": null,
      "outputs": []
    },
    {
      "cell_type": "code",
      "metadata": {
        "id": "pzFZ3WQ7ZPEp"
      },
      "source": [
        "# Evaluate regression algorithm on training dataset\n",
        "def evaluate_algorithm(dataset, algorithm):\n",
        "    test_set = list()\n",
        "    for row in dataset:\n",
        "        row_copy = list(row)\n",
        "        row_copy[-1] = None\n",
        "        test_set.append(row_copy)\n",
        "    predicted = algorithm(dataset, test_set)\n",
        "    actual = [row[-1] for row in dataset]\n",
        "    for i in range(len(dataset)):\n",
        "      print(\"Input Value (x1) is \", dataset[i][0])\n",
        "      print(\"Predicted Values is ::\",predicted[i])\n",
        "    rmse = rmse_metric(actual, predicted)\n",
        "    return rmse"
      ],
      "execution_count": null,
      "outputs": []
    },
    {
      "cell_type": "code",
      "metadata": {
        "colab": {
          "base_uri": "https://localhost:8080/"
        },
        "id": "svofK2NAZPEq",
        "outputId": "8e07a7cf-a80c-4e8b-adc8-f359ae4883a5"
      },
      "source": [
        "# Test simple linear regression\n",
        "dataset = [[1, 1], [2, 3], [4, 3], [3, 2], [5, 5]] ##[ x, y ]\n",
        "rmse = evaluate_algorithm(dataset, simple_linear_regression)\n",
        "print('RMSE: %.3f' % (rmse))"
      ],
      "execution_count": null,
      "outputs": [
        {
          "output_type": "stream",
          "text": [
            "Coefficients after Training are b0 = 0.39999999999999947  b1= 0.8\n",
            "Input Value (x1) is  1\n",
            "Predicted Values is :: 1.1999999999999995\n",
            "Input Value (x1) is  2\n",
            "Predicted Values is :: 1.9999999999999996\n",
            "Input Value (x1) is  4\n",
            "Predicted Values is :: 3.5999999999999996\n",
            "Input Value (x1) is  3\n",
            "Predicted Values is :: 2.8\n",
            "Input Value (x1) is  5\n",
            "Predicted Values is :: 4.3999999999999995\n",
            "RMSE: 0.693\n"
          ],
          "name": "stdout"
        }
      ]
    },
    {
      "cell_type": "markdown",
      "metadata": {
        "id": "KlPur7L2-bnn"
      },
      "source": [
        "# LSM using Numpy array"
      ]
    },
    {
      "cell_type": "code",
      "metadata": {
        "id": "efD0lUWHZPEm"
      },
      "source": [
        "# # WAP to find linear regression coefficients given x_train and y_train data\n",
        "def lr_coeff(x_train,y_train): #same coefficients\n",
        "    x_t = x_train - x_train.mean()\n",
        "    y_t = y_train - y_train.mean()\n",
        "    covar = sum(x_t*y_t)\n",
        "    var = sum(x_t**2) # np.dot\n",
        "    b = covar / var\n",
        "    a = y_train.mean() - b * x_train.mean()\n",
        "    return a,b"
      ],
      "execution_count": null,
      "outputs": []
    },
    {
      "cell_type": "code",
      "metadata": {
        "colab": {
          "base_uri": "https://localhost:8080/"
        },
        "id": "j4YKGb3K64EJ",
        "outputId": "839d1b5a-71d6-4e9a-cbb2-fae68de081ef"
      },
      "source": [
        "import numpy as np\n",
        "X = np.array([1,2,4,7,9])\n",
        "Y = np.array([2,4,7,15,18])\n",
        "lr_coeff(X,Y)"
      ],
      "execution_count": null,
      "outputs": [
        {
          "output_type": "execute_result",
          "data": {
            "text/plain": [
              "(-0.3053097345132745, 2.066371681415929)"
            ]
          },
          "metadata": {
            "tags": []
          },
          "execution_count": 13
        }
      ]
    },
    {
      "cell_type": "markdown",
      "metadata": {
        "id": "5hKIAeeI-pkW"
      },
      "source": [
        "### Verify Numpy implementation with simple one"
      ]
    },
    {
      "cell_type": "code",
      "metadata": {
        "colab": {
          "base_uri": "https://localhost:8080/"
        },
        "id": "LgkhxtJh97EI",
        "outputId": "be101f64-5089-48ef-d4da-bddb03c60f30"
      },
      "source": [
        "dataset = [[1, 2], [2, 4], [4, 7], [7, 15], [9, 18]] ##[ x, y ]\n",
        "rmse = evaluate_algorithm(dataset, simple_linear_regression)\n",
        "print('RMSE: %.3f' % (rmse))"
      ],
      "execution_count": null,
      "outputs": [
        {
          "output_type": "stream",
          "text": [
            "Coefficients after Training are b0 = -0.3053097345132745  b1= 2.066371681415929\n",
            "Input Value (x1) is  1\n",
            "Predicted Values is :: 1.7610619469026547\n",
            "Input Value (x1) is  2\n",
            "Predicted Values is :: 3.827433628318584\n",
            "Input Value (x1) is  4\n",
            "Predicted Values is :: 7.960176991150442\n",
            "Input Value (x1) is  7\n",
            "Predicted Values is :: 14.159292035398229\n",
            "Input Value (x1) is  9\n",
            "Predicted Values is :: 18.29203539823009\n",
            "RMSE: 0.600\n"
          ],
          "name": "stdout"
        }
      ]
    },
    {
      "cell_type": "markdown",
      "metadata": {
        "id": "v3zlrv1hZPEs"
      },
      "source": [
        "# Library Method\n"
      ]
    },
    {
      "cell_type": "code",
      "metadata": {
        "id": "IlbJb12oZPEt"
      },
      "source": [
        "import numpy as np\n",
        "from sklearn.linear_model import LinearRegression"
      ],
      "execution_count": null,
      "outputs": []
    },
    {
      "cell_type": "code",
      "metadata": {
        "id": "2DLD3NCXZPEt"
      },
      "source": [
        "# Three features in X (x1 x2 and x3)\n",
        "X = np.array([[1, 1,4], [1, 2,5], [2, 2,10], [2, 3,3]])"
      ],
      "execution_count": null,
      "outputs": []
    },
    {
      "cell_type": "code",
      "metadata": {
        "id": "JhmVWe42ZPEu"
      },
      "source": [
        "# Calculate actual y\n",
        "# y = 1 * x_1 + 2 * x_2 + 0.5 * x_3 + 3\n",
        "y = np.dot(X, np.array([1, 2,0.5])) + 3\n",
        "# y = np.dot(X, np.array([1.5, 4.5,67])) + 5.5"
      ],
      "execution_count": null,
      "outputs": []
    },
    {
      "cell_type": "code",
      "metadata": {
        "id": "t8BY4k6_ZPEu"
      },
      "source": [
        "reg = LinearRegression().fit(X, y)"
      ],
      "execution_count": null,
      "outputs": []
    },
    {
      "cell_type": "code",
      "metadata": {
        "colab": {
          "base_uri": "https://localhost:8080/"
        },
        "id": "0915QOnoZPEv",
        "outputId": "4ea6c81d-0e18-4529-bafb-7e0bde9ec4c9"
      },
      "source": [
        "reg.score(X, y)"
      ],
      "execution_count": null,
      "outputs": [
        {
          "output_type": "execute_result",
          "data": {
            "text/plain": [
              "1.0"
            ]
          },
          "metadata": {
            "tags": []
          },
          "execution_count": 19
        }
      ]
    },
    {
      "cell_type": "code",
      "metadata": {
        "colab": {
          "base_uri": "https://localhost:8080/"
        },
        "id": "9uFa8L8RZPEv",
        "outputId": "f2681313-be3a-4cbf-fb86-1e8657c5b9f2"
      },
      "source": [
        "reg.coef_"
      ],
      "execution_count": null,
      "outputs": [
        {
          "output_type": "execute_result",
          "data": {
            "text/plain": [
              "array([1. , 2. , 0.5])"
            ]
          },
          "metadata": {
            "tags": []
          },
          "execution_count": 24
        }
      ]
    },
    {
      "cell_type": "code",
      "metadata": {
        "colab": {
          "base_uri": "https://localhost:8080/"
        },
        "id": "ZLrwr5b1ZPEw",
        "outputId": "1484613f-3821-4801-cd9a-21f3578497d2"
      },
      "source": [
        "reg.intercept_"
      ],
      "execution_count": null,
      "outputs": [
        {
          "output_type": "execute_result",
          "data": {
            "text/plain": [
              "2.9999999999999964"
            ]
          },
          "metadata": {
            "tags": []
          },
          "execution_count": 25
        }
      ]
    },
    {
      "cell_type": "code",
      "metadata": {
        "colab": {
          "base_uri": "https://localhost:8080/"
        },
        "id": "J6bxIPYEZPEw",
        "outputId": "77212e9e-3e6b-49a7-a43c-eb92a039bd97"
      },
      "source": [
        "reg.predict(np.array([[3, 5,78]]))"
      ],
      "execution_count": null,
      "outputs": [
        {
          "output_type": "execute_result",
          "data": {
            "text/plain": [
              "array([5258.5])"
            ]
          },
          "metadata": {
            "tags": []
          },
          "execution_count": 29
        }
      ]
    },
    {
      "cell_type": "markdown",
      "metadata": {
        "id": "JhswGfvHZPEx"
      },
      "source": [
        "# Application on Actual Data"
      ]
    },
    {
      "cell_type": "code",
      "metadata": {
        "id": "8dR4NjeJZPEx"
      },
      "source": [
        "import pandas as pd"
      ],
      "execution_count": null,
      "outputs": []
    },
    {
      "cell_type": "code",
      "metadata": {
        "id": "JCnT6s7sZPEy"
      },
      "source": [
        "df = pd.read_csv(\"AutoInsurSweden.txt\",sep=\"\\t\",skiprows=9)"
      ],
      "execution_count": null,
      "outputs": []
    },
    {
      "cell_type": "code",
      "metadata": {
        "colab": {
          "base_uri": "https://localhost:8080/",
          "height": 206
        },
        "id": "FSM8pjSVZPEy",
        "outputId": "71f0b239-bc7d-433e-9e27-03e8a0ab8117"
      },
      "source": [
        "df.head()"
      ],
      "execution_count": null,
      "outputs": [
        {
          "output_type": "execute_result",
          "data": {
            "text/html": [
              "<div>\n",
              "<style scoped>\n",
              "    .dataframe tbody tr th:only-of-type {\n",
              "        vertical-align: middle;\n",
              "    }\n",
              "\n",
              "    .dataframe tbody tr th {\n",
              "        vertical-align: top;\n",
              "    }\n",
              "\n",
              "    .dataframe thead th {\n",
              "        text-align: right;\n",
              "    }\n",
              "</style>\n",
              "<table border=\"1\" class=\"dataframe\">\n",
              "  <thead>\n",
              "    <tr style=\"text-align: right;\">\n",
              "      <th></th>\n",
              "      <th>X</th>\n",
              "      <th>Y</th>\n",
              "    </tr>\n",
              "  </thead>\n",
              "  <tbody>\n",
              "    <tr>\n",
              "      <th>0</th>\n",
              "      <td>108</td>\n",
              "      <td>392,5</td>\n",
              "    </tr>\n",
              "    <tr>\n",
              "      <th>1</th>\n",
              "      <td>19</td>\n",
              "      <td>46,2</td>\n",
              "    </tr>\n",
              "    <tr>\n",
              "      <th>2</th>\n",
              "      <td>13</td>\n",
              "      <td>15,7</td>\n",
              "    </tr>\n",
              "    <tr>\n",
              "      <th>3</th>\n",
              "      <td>124</td>\n",
              "      <td>422,2</td>\n",
              "    </tr>\n",
              "    <tr>\n",
              "      <th>4</th>\n",
              "      <td>40</td>\n",
              "      <td>119,4</td>\n",
              "    </tr>\n",
              "  </tbody>\n",
              "</table>\n",
              "</div>"
            ],
            "text/plain": [
              "     X      Y\n",
              "0  108  392,5\n",
              "1   19   46,2\n",
              "2   13   15,7\n",
              "3  124  422,2\n",
              "4   40  119,4"
            ]
          },
          "metadata": {
            "tags": []
          },
          "execution_count": 28
        }
      ]
    },
    {
      "cell_type": "code",
      "metadata": {
        "id": "ToUQirvmZPEz"
      },
      "source": [
        "df.Y = df.Y.str.replace(',','.')"
      ],
      "execution_count": null,
      "outputs": []
    },
    {
      "cell_type": "code",
      "metadata": {
        "colab": {
          "base_uri": "https://localhost:8080/",
          "height": 206
        },
        "id": "xWElVpZWZPEz",
        "outputId": "6eb84479-b6e2-497c-dbf1-1b2129d28fd7"
      },
      "source": [
        "df.head()"
      ],
      "execution_count": null,
      "outputs": [
        {
          "output_type": "execute_result",
          "data": {
            "text/html": [
              "<div>\n",
              "<style scoped>\n",
              "    .dataframe tbody tr th:only-of-type {\n",
              "        vertical-align: middle;\n",
              "    }\n",
              "\n",
              "    .dataframe tbody tr th {\n",
              "        vertical-align: top;\n",
              "    }\n",
              "\n",
              "    .dataframe thead th {\n",
              "        text-align: right;\n",
              "    }\n",
              "</style>\n",
              "<table border=\"1\" class=\"dataframe\">\n",
              "  <thead>\n",
              "    <tr style=\"text-align: right;\">\n",
              "      <th></th>\n",
              "      <th>X</th>\n",
              "      <th>Y</th>\n",
              "    </tr>\n",
              "  </thead>\n",
              "  <tbody>\n",
              "    <tr>\n",
              "      <th>0</th>\n",
              "      <td>108</td>\n",
              "      <td>392.5</td>\n",
              "    </tr>\n",
              "    <tr>\n",
              "      <th>1</th>\n",
              "      <td>19</td>\n",
              "      <td>46.2</td>\n",
              "    </tr>\n",
              "    <tr>\n",
              "      <th>2</th>\n",
              "      <td>13</td>\n",
              "      <td>15.7</td>\n",
              "    </tr>\n",
              "    <tr>\n",
              "      <th>3</th>\n",
              "      <td>124</td>\n",
              "      <td>422.2</td>\n",
              "    </tr>\n",
              "    <tr>\n",
              "      <th>4</th>\n",
              "      <td>40</td>\n",
              "      <td>119.4</td>\n",
              "    </tr>\n",
              "  </tbody>\n",
              "</table>\n",
              "</div>"
            ],
            "text/plain": [
              "     X      Y\n",
              "0  108  392.5\n",
              "1   19   46.2\n",
              "2   13   15.7\n",
              "3  124  422.2\n",
              "4   40  119.4"
            ]
          },
          "metadata": {
            "tags": []
          },
          "execution_count": 30
        }
      ]
    },
    {
      "cell_type": "code",
      "metadata": {
        "colab": {
          "base_uri": "https://localhost:8080/"
        },
        "id": "o_pmPmARZPEz",
        "outputId": "0786b26b-e47c-4081-e392-880defc990a2"
      },
      "source": [
        "df.dtypes"
      ],
      "execution_count": null,
      "outputs": [
        {
          "output_type": "execute_result",
          "data": {
            "text/plain": [
              "X     int64\n",
              "Y    object\n",
              "dtype: object"
            ]
          },
          "metadata": {
            "tags": []
          },
          "execution_count": 31
        }
      ]
    },
    {
      "cell_type": "code",
      "metadata": {
        "id": "WeE42yMHZPE0"
      },
      "source": [
        "df.Y = df.Y.astype(float)"
      ],
      "execution_count": null,
      "outputs": []
    },
    {
      "cell_type": "code",
      "metadata": {
        "colab": {
          "base_uri": "https://localhost:8080/"
        },
        "id": "SqmHsSyYidcK",
        "outputId": "bdb173f2-24f9-41e1-d330-5200e61d70a2"
      },
      "source": [
        "df.dtypes"
      ],
      "execution_count": null,
      "outputs": [
        {
          "output_type": "execute_result",
          "data": {
            "text/plain": [
              "X      int64\n",
              "Y    float64\n",
              "dtype: object"
            ]
          },
          "metadata": {
            "tags": []
          },
          "execution_count": 33
        }
      ]
    },
    {
      "cell_type": "code",
      "metadata": {
        "colab": {
          "base_uri": "https://localhost:8080/",
          "height": 297
        },
        "id": "42-wwks2ZPE0",
        "outputId": "a54918cf-add8-43df-9973-8842231c8c23"
      },
      "source": [
        "df.plot(x='X', y= 'Y', kind='scatter')"
      ],
      "execution_count": null,
      "outputs": [
        {
          "output_type": "execute_result",
          "data": {
            "text/plain": [
              "<matplotlib.axes._subplots.AxesSubplot at 0x7eff2f2998d0>"
            ]
          },
          "metadata": {
            "tags": []
          },
          "execution_count": 34
        },
        {
          "output_type": "display_data",
          "data": {
            "image/png": "[encoded data removed]",
            "text/plain": [
              "<Figure size 432x288 with 1 Axes>"
            ]
          },
          "metadata": {
            "tags": [],
            "needs_background": "light"
          }
        }
      ]
    },
    {
      "cell_type": "code",
      "metadata": {
        "id": "wIhV0CSGZPE1"
      },
      "source": [
        "# Split data in Training and testing\n",
        "# random balanced split\n",
        "from sklearn.model_selection import train_test_split"
      ],
      "execution_count": null,
      "outputs": []
    },
    {
      "cell_type": "code",
      "metadata": {
        "id": "k2edbfKsZPE1"
      },
      "source": [
        "X_train, X_test, Y_train, Y_test = train_test_split(df[['X']],df.Y,test_size  = 0.3, random_state =7)"
      ],
      "execution_count": null,
      "outputs": []
    },
    {
      "cell_type": "code",
      "metadata": {
        "id": "eE1bP0EYZPE2"
      },
      "source": [
        "from sklearn.linear_model import LinearRegression"
      ],
      "execution_count": null,
      "outputs": []
    },
    {
      "cell_type": "code",
      "metadata": {
        "id": "2pVSbOi6ZPE2"
      },
      "source": [
        "reg = LinearRegression().fit(X_train, Y_train)"
      ],
      "execution_count": null,
      "outputs": []
    },
    {
      "cell_type": "code",
      "metadata": {
        "colab": {
          "base_uri": "https://localhost:8080/"
        },
        "id": "nGnUC-J_ZPE3",
        "outputId": "c9da17e4-0c92-4d2c-83c6-73fe88fa3769"
      },
      "source": [
        "reg.coef_, reg.intercept_"
      ],
      "execution_count": null,
      "outputs": [
        {
          "output_type": "execute_result",
          "data": {
            "text/plain": [
              "(array([3.33602385]), 23.75472726509068)"
            ]
          },
          "metadata": {
            "tags": []
          },
          "execution_count": 40
        }
      ]
    },
    {
      "cell_type": "code",
      "metadata": {
        "id": "R70F326nZPE3"
      },
      "source": [
        "#lr_coeff(X_train.values,Y_train.values)"
      ],
      "execution_count": null,
      "outputs": []
    },
    {
      "cell_type": "code",
      "metadata": {
        "id": "C6HQ6PZfZPE3"
      },
      "source": [
        "Y_pred = reg.predict(X_test)"
      ],
      "execution_count": null,
      "outputs": []
    },
    {
      "cell_type": "code",
      "metadata": {
        "colab": {
          "base_uri": "https://localhost:8080/"
        },
        "id": "ZuUp_fS3ZPE4",
        "outputId": "0ee526e4-0db3-44d4-bf14-95cdcb132725"
      },
      "source": [
        "rmse_metric(Y_test.values,Y_pred)"
      ],
      "execution_count": null,
      "outputs": [
        {
          "output_type": "execute_result",
          "data": {
            "text/plain": [
              "35.86275705806889"
            ]
          },
          "metadata": {
            "tags": []
          },
          "execution_count": 42
        }
      ]
    },
    {
      "cell_type": "markdown",
      "metadata": {
        "id": "PN4tHfiyZPE4"
      },
      "source": [
        "### Application of Monte Karlo Simulation Theorem"
      ]
    },
    {
      "cell_type": "code",
      "metadata": {
        "id": "aYmfRdhwZPE4"
      },
      "source": [
        "def simulation_regression(model,X,Y,test_size=0.3):\n",
        "    from sklearn.model_selection import train_test_split\n",
        "    X_train, X_test, Y_train, Y_test = train_test_split(X,Y,test_size  = test_size)\n",
        "    m = model.fit(X_train, Y_train)\n",
        "    Y_pred = m.predict(X_test)\n",
        "\n",
        "    from sklearn.metrics import mean_squared_error\n",
        "    mse = mean_squared_error(Y_test,Y_pred)\n",
        "    return mse ** 0.5"
      ],
      "execution_count": null,
      "outputs": []
    },
    {
      "cell_type": "code",
      "metadata": {
        "id": "vz8FeJzMZPE5",
        "colab": {
          "base_uri": "https://localhost:8080/"
        },
        "outputId": "f31cc849-5f88-48ed-c4a6-69d9735cf526"
      },
      "source": [
        "from sklearn.linear_model import LinearRegression\n",
        "model = LinearRegression()\n",
        "X = df[['X']]\n",
        "Y = df['Y']\n",
        "t_s = 0.3\n",
        "for _ in range(10):\n",
        "    err = simulation_regression(model,X,Y,t_s)\n",
        "    print(t_s, err)"
      ],
      "execution_count": null,
      "outputs": [
        {
          "output_type": "stream",
          "text": [
            "0.3 31.429171455324127\n",
            "0.3 37.729398457690195\n",
            "0.3 31.25749655010368\n",
            "0.3 38.55491645410794\n",
            "0.3 39.218001720415586\n",
            "0.3 39.49496407306443\n",
            "0.3 37.50581772207719\n",
            "0.3 43.14679005661657\n",
            "0.3 34.350107075834536\n",
            "0.3 38.24818577735507\n"
          ],
          "name": "stdout"
        }
      ]
    },
    {
      "cell_type": "markdown",
      "metadata": {
        "id": "U2DJpgmJZPE5"
      },
      "source": [
        "# Historical Quotes"
      ]
    },
    {
      "cell_type": "code",
      "metadata": {
        "id": "fVoxPF1GZPE6"
      },
      "source": [
        "hq = pd.read_csv(\"HistoricalQuotes.csv\",parse_dates=['date'],index_col = 0)"
      ],
      "execution_count": null,
      "outputs": []
    },
    {
      "cell_type": "code",
      "metadata": {
        "id": "BJYaPyCzZPE6",
        "colab": {
          "base_uri": "https://localhost:8080/",
          "height": 237
        },
        "outputId": "6693cf75-1e4e-44ac-87b0-85f19e2345a0"
      },
      "source": [
        "hq.head()"
      ],
      "execution_count": null,
      "outputs": [
        {
          "output_type": "execute_result",
          "data": {
            "text/html": [
              "<div>\n",
              "<style scoped>\n",
              "    .dataframe tbody tr th:only-of-type {\n",
              "        vertical-align: middle;\n",
              "    }\n",
              "\n",
              "    .dataframe tbody tr th {\n",
              "        vertical-align: top;\n",
              "    }\n",
              "\n",
              "    .dataframe thead th {\n",
              "        text-align: right;\n",
              "    }\n",
              "</style>\n",
              "<table border=\"1\" class=\"dataframe\">\n",
              "  <thead>\n",
              "    <tr style=\"text-align: right;\">\n",
              "      <th></th>\n",
              "      <th>close</th>\n",
              "      <th>volume</th>\n",
              "      <th>open</th>\n",
              "      <th>high</th>\n",
              "      <th>low</th>\n",
              "    </tr>\n",
              "    <tr>\n",
              "      <th>date</th>\n",
              "      <th></th>\n",
              "      <th></th>\n",
              "      <th></th>\n",
              "      <th></th>\n",
              "      <th></th>\n",
              "    </tr>\n",
              "  </thead>\n",
              "  <tbody>\n",
              "    <tr>\n",
              "      <th>2019-08-10</th>\n",
              "      <td>200.99</td>\n",
              "      <td>24,619,446</td>\n",
              "      <td>201.23</td>\n",
              "      <td>202.760</td>\n",
              "      <td>199.29</td>\n",
              "    </tr>\n",
              "    <tr>\n",
              "      <th>2019-08-09</th>\n",
              "      <td>200.99</td>\n",
              "      <td>24619750.0000</td>\n",
              "      <td>201.30</td>\n",
              "      <td>202.760</td>\n",
              "      <td>199.29</td>\n",
              "    </tr>\n",
              "    <tr>\n",
              "      <th>2019-08-08</th>\n",
              "      <td>203.43</td>\n",
              "      <td>27009520.0000</td>\n",
              "      <td>200.20</td>\n",
              "      <td>203.530</td>\n",
              "      <td>199.39</td>\n",
              "    </tr>\n",
              "    <tr>\n",
              "      <th>2019-08-07</th>\n",
              "      <td>199.04</td>\n",
              "      <td>33364400.0000</td>\n",
              "      <td>195.41</td>\n",
              "      <td>199.560</td>\n",
              "      <td>193.82</td>\n",
              "    </tr>\n",
              "    <tr>\n",
              "      <th>2019-08-06</th>\n",
              "      <td>197.00</td>\n",
              "      <td>35824790.0000</td>\n",
              "      <td>196.31</td>\n",
              "      <td>198.067</td>\n",
              "      <td>194.04</td>\n",
              "    </tr>\n",
              "  </tbody>\n",
              "</table>\n",
              "</div>"
            ],
            "text/plain": [
              "             close         volume    open     high     low\n",
              "date                                                      \n",
              "2019-08-10  200.99     24,619,446  201.23  202.760  199.29\n",
              "2019-08-09  200.99  24619750.0000  201.30  202.760  199.29\n",
              "2019-08-08  203.43  27009520.0000  200.20  203.530  199.39\n",
              "2019-08-07  199.04  33364400.0000  195.41  199.560  193.82\n",
              "2019-08-06  197.00  35824790.0000  196.31  198.067  194.04"
            ]
          },
          "metadata": {
            "tags": []
          },
          "execution_count": 49
        }
      ]
    },
    {
      "cell_type": "code",
      "metadata": {
        "id": "uKqPdFp-ZPE6",
        "colab": {
          "base_uri": "https://localhost:8080/"
        },
        "outputId": "8fd91592-8e13-4245-bc8f-7a778e1c8e29"
      },
      "source": [
        "#y -> close\n",
        "# X -> all remaining values\n",
        "hq.dtypes"
      ],
      "execution_count": null,
      "outputs": [
        {
          "output_type": "execute_result",
          "data": {
            "text/plain": [
              "close     float64\n",
              "volume     object\n",
              "open      float64\n",
              "high      float64\n",
              "low       float64\n",
              "dtype: object"
            ]
          },
          "metadata": {
            "tags": []
          },
          "execution_count": 50
        }
      ]
    },
    {
      "cell_type": "code",
      "metadata": {
        "id": "vWpaJhPJZPE7"
      },
      "source": [
        "hq.volume = hq.volume.str.replace(\",\",\"\").astype(float)"
      ],
      "execution_count": null,
      "outputs": []
    },
    {
      "cell_type": "code",
      "metadata": {
        "id": "8WVzLb0WZPE7",
        "colab": {
          "base_uri": "https://localhost:8080/",
          "height": 237
        },
        "outputId": "2f0fe159-cd87-4ac2-c371-85d34ad137c0"
      },
      "source": [
        "hq.head()"
      ],
      "execution_count": null,
      "outputs": [
        {
          "output_type": "execute_result",
          "data": {
            "text/html": [
              "<div>\n",
              "<style scoped>\n",
              "    .dataframe tbody tr th:only-of-type {\n",
              "        vertical-align: middle;\n",
              "    }\n",
              "\n",
              "    .dataframe tbody tr th {\n",
              "        vertical-align: top;\n",
              "    }\n",
              "\n",
              "    .dataframe thead th {\n",
              "        text-align: right;\n",
              "    }\n",
              "</style>\n",
              "<table border=\"1\" class=\"dataframe\">\n",
              "  <thead>\n",
              "    <tr style=\"text-align: right;\">\n",
              "      <th></th>\n",
              "      <th>close</th>\n",
              "      <th>volume</th>\n",
              "      <th>open</th>\n",
              "      <th>high</th>\n",
              "      <th>low</th>\n",
              "    </tr>\n",
              "    <tr>\n",
              "      <th>date</th>\n",
              "      <th></th>\n",
              "      <th></th>\n",
              "      <th></th>\n",
              "      <th></th>\n",
              "      <th></th>\n",
              "    </tr>\n",
              "  </thead>\n",
              "  <tbody>\n",
              "    <tr>\n",
              "      <th>2019-08-10</th>\n",
              "      <td>200.99</td>\n",
              "      <td>24619446.0</td>\n",
              "      <td>201.23</td>\n",
              "      <td>202.760</td>\n",
              "      <td>199.29</td>\n",
              "    </tr>\n",
              "    <tr>\n",
              "      <th>2019-08-09</th>\n",
              "      <td>200.99</td>\n",
              "      <td>24619750.0</td>\n",
              "      <td>201.30</td>\n",
              "      <td>202.760</td>\n",
              "      <td>199.29</td>\n",
              "    </tr>\n",
              "    <tr>\n",
              "      <th>2019-08-08</th>\n",
              "      <td>203.43</td>\n",
              "      <td>27009520.0</td>\n",
              "      <td>200.20</td>\n",
              "      <td>203.530</td>\n",
              "      <td>199.39</td>\n",
              "    </tr>\n",
              "    <tr>\n",
              "      <th>2019-08-07</th>\n",
              "      <td>199.04</td>\n",
              "      <td>33364400.0</td>\n",
              "      <td>195.41</td>\n",
              "      <td>199.560</td>\n",
              "      <td>193.82</td>\n",
              "    </tr>\n",
              "    <tr>\n",
              "      <th>2019-08-06</th>\n",
              "      <td>197.00</td>\n",
              "      <td>35824790.0</td>\n",
              "      <td>196.31</td>\n",
              "      <td>198.067</td>\n",
              "      <td>194.04</td>\n",
              "    </tr>\n",
              "  </tbody>\n",
              "</table>\n",
              "</div>"
            ],
            "text/plain": [
              "             close      volume    open     high     low\n",
              "date                                                   \n",
              "2019-08-10  200.99  24619446.0  201.23  202.760  199.29\n",
              "2019-08-09  200.99  24619750.0  201.30  202.760  199.29\n",
              "2019-08-08  203.43  27009520.0  200.20  203.530  199.39\n",
              "2019-08-07  199.04  33364400.0  195.41  199.560  193.82\n",
              "2019-08-06  197.00  35824790.0  196.31  198.067  194.04"
            ]
          },
          "metadata": {
            "tags": []
          },
          "execution_count": 53
        }
      ]
    },
    {
      "cell_type": "code",
      "metadata": {
        "id": "yfsUJghjZPE7",
        "colab": {
          "base_uri": "https://localhost:8080/"
        },
        "outputId": "3ffd0894-ab77-4767-f19b-93e75cfa4f9f"
      },
      "source": [
        "train_count = int(hq.shape[0] * 0.7)\n",
        "test_count = hq.shape[0] - train_count\n",
        "train_count,test_count"
      ],
      "execution_count": null,
      "outputs": [
        {
          "output_type": "execute_result",
          "data": {
            "text/plain": [
              "(177, 76)"
            ]
          },
          "metadata": {
            "tags": []
          },
          "execution_count": 54
        }
      ]
    },
    {
      "cell_type": "code",
      "metadata": {
        "id": "pfszWujoZPE8",
        "colab": {
          "base_uri": "https://localhost:8080/"
        },
        "outputId": "2f7ecc55-557c-4305-fe87-dec333a68173"
      },
      "source": [
        "Y_test = hq.iloc[:test_count,0]\n",
        "Y_train = hq.iloc[test_count:,0]\n",
        "Y_train.shape, Y_test.shape"
      ],
      "execution_count": null,
      "outputs": [
        {
          "output_type": "execute_result",
          "data": {
            "text/plain": [
              "((177,), (76,))"
            ]
          },
          "metadata": {
            "tags": []
          },
          "execution_count": 55
        }
      ]
    },
    {
      "cell_type": "code",
      "metadata": {
        "id": "QLxfe2awZPE9"
      },
      "source": [
        "hq_rev = hq.iloc[::-1] #hq[::-1]"
      ],
      "execution_count": null,
      "outputs": []
    },
    {
      "cell_type": "code",
      "metadata": {
        "id": "0S0T9Yl6ZPE9",
        "colab": {
          "base_uri": "https://localhost:8080/",
          "height": 237
        },
        "outputId": "be1531e6-5cf9-4e2c-d10e-3fe63fbd72a8"
      },
      "source": [
        "hq_rev.head()"
      ],
      "execution_count": null,
      "outputs": [
        {
          "output_type": "execute_result",
          "data": {
            "text/html": [
              "<div>\n",
              "<style scoped>\n",
              "    .dataframe tbody tr th:only-of-type {\n",
              "        vertical-align: middle;\n",
              "    }\n",
              "\n",
              "    .dataframe tbody tr th {\n",
              "        vertical-align: top;\n",
              "    }\n",
              "\n",
              "    .dataframe thead th {\n",
              "        text-align: right;\n",
              "    }\n",
              "</style>\n",
              "<table border=\"1\" class=\"dataframe\">\n",
              "  <thead>\n",
              "    <tr style=\"text-align: right;\">\n",
              "      <th></th>\n",
              "      <th>close</th>\n",
              "      <th>volume</th>\n",
              "      <th>open</th>\n",
              "      <th>high</th>\n",
              "      <th>low</th>\n",
              "    </tr>\n",
              "    <tr>\n",
              "      <th>date</th>\n",
              "      <th></th>\n",
              "      <th></th>\n",
              "      <th></th>\n",
              "      <th></th>\n",
              "      <th></th>\n",
              "    </tr>\n",
              "  </thead>\n",
              "  <tbody>\n",
              "    <tr>\n",
              "      <th>2018-08-09</th>\n",
              "      <td>208.88</td>\n",
              "      <td>23389530.0</td>\n",
              "      <td>207.280</td>\n",
              "      <td>209.780</td>\n",
              "      <td>207.20</td>\n",
              "    </tr>\n",
              "    <tr>\n",
              "      <th>2018-08-10</th>\n",
              "      <td>207.53</td>\n",
              "      <td>24592460.0</td>\n",
              "      <td>207.360</td>\n",
              "      <td>209.100</td>\n",
              "      <td>206.67</td>\n",
              "    </tr>\n",
              "    <tr>\n",
              "      <th>2018-08-13</th>\n",
              "      <td>208.87</td>\n",
              "      <td>25864510.0</td>\n",
              "      <td>207.700</td>\n",
              "      <td>210.952</td>\n",
              "      <td>207.70</td>\n",
              "    </tr>\n",
              "    <tr>\n",
              "      <th>2018-08-14</th>\n",
              "      <td>209.75</td>\n",
              "      <td>20679270.0</td>\n",
              "      <td>210.155</td>\n",
              "      <td>210.560</td>\n",
              "      <td>208.26</td>\n",
              "    </tr>\n",
              "    <tr>\n",
              "      <th>2018-08-15</th>\n",
              "      <td>210.24</td>\n",
              "      <td>28595230.0</td>\n",
              "      <td>209.220</td>\n",
              "      <td>210.740</td>\n",
              "      <td>208.33</td>\n",
              "    </tr>\n",
              "  </tbody>\n",
              "</table>\n",
              "</div>"
            ],
            "text/plain": [
              "             close      volume     open     high     low\n",
              "date                                                    \n",
              "2018-08-09  208.88  23389530.0  207.280  209.780  207.20\n",
              "2018-08-10  207.53  24592460.0  207.360  209.100  206.67\n",
              "2018-08-13  208.87  25864510.0  207.700  210.952  207.70\n",
              "2018-08-14  209.75  20679270.0  210.155  210.560  208.26\n",
              "2018-08-15  210.24  28595230.0  209.220  210.740  208.33"
            ]
          },
          "metadata": {
            "tags": []
          },
          "execution_count": 57
        }
      ]
    },
    {
      "cell_type": "code",
      "metadata": {
        "colab": {
          "base_uri": "https://localhost:8080/",
          "height": 300
        },
        "id": "5BsfehI43_id",
        "outputId": "0fa340f7-9854-4eee-ceb6-1fe2ad266282"
      },
      "source": [
        "hq_rev.describe()"
      ],
      "execution_count": null,
      "outputs": [
        {
          "output_type": "execute_result",
          "data": {
            "text/html": [
              "<div>\n",
              "<style scoped>\n",
              "    .dataframe tbody tr th:only-of-type {\n",
              "        vertical-align: middle;\n",
              "    }\n",
              "\n",
              "    .dataframe tbody tr th {\n",
              "        vertical-align: top;\n",
              "    }\n",
              "\n",
              "    .dataframe thead th {\n",
              "        text-align: right;\n",
              "    }\n",
              "</style>\n",
              "<table border=\"1\" class=\"dataframe\">\n",
              "  <thead>\n",
              "    <tr style=\"text-align: right;\">\n",
              "      <th></th>\n",
              "      <th>close</th>\n",
              "      <th>volume</th>\n",
              "      <th>open</th>\n",
              "      <th>high</th>\n",
              "      <th>low</th>\n",
              "    </tr>\n",
              "  </thead>\n",
              "  <tbody>\n",
              "    <tr>\n",
              "      <th>count</th>\n",
              "      <td>253.000000</td>\n",
              "      <td>253.000000</td>\n",
              "      <td>253.000000</td>\n",
              "      <td>253.000000</td>\n",
              "      <td>253.000000</td>\n",
              "    </tr>\n",
              "    <tr>\n",
              "      <th>mean</th>\n",
              "      <td>193.091858</td>\n",
              "      <td>17.222939</td>\n",
              "      <td>193.031711</td>\n",
              "      <td>195.073753</td>\n",
              "      <td>191.073962</td>\n",
              "    </tr>\n",
              "    <tr>\n",
              "      <th>std</th>\n",
              "      <td>21.750344</td>\n",
              "      <td>0.372905</td>\n",
              "      <td>21.772060</td>\n",
              "      <td>21.914049</td>\n",
              "      <td>21.700140</td>\n",
              "    </tr>\n",
              "    <tr>\n",
              "      <th>min</th>\n",
              "      <td>142.190000</td>\n",
              "      <td>16.245789</td>\n",
              "      <td>143.980000</td>\n",
              "      <td>145.720000</td>\n",
              "      <td>142.000000</td>\n",
              "    </tr>\n",
              "    <tr>\n",
              "      <th>25%</th>\n",
              "      <td>174.870000</td>\n",
              "      <td>16.958413</td>\n",
              "      <td>174.940000</td>\n",
              "      <td>176.000000</td>\n",
              "      <td>173.940000</td>\n",
              "    </tr>\n",
              "    <tr>\n",
              "      <th>50%</th>\n",
              "      <td>197.000000</td>\n",
              "      <td>17.203832</td>\n",
              "      <td>196.450000</td>\n",
              "      <td>199.260000</td>\n",
              "      <td>194.040000</td>\n",
              "    </tr>\n",
              "    <tr>\n",
              "      <th>75%</th>\n",
              "      <td>208.880000</td>\n",
              "      <td>17.472995</td>\n",
              "      <td>209.220000</td>\n",
              "      <td>210.640000</td>\n",
              "      <td>207.290000</td>\n",
              "    </tr>\n",
              "    <tr>\n",
              "      <th>max</th>\n",
              "      <td>232.070000</td>\n",
              "      <td>18.375517</td>\n",
              "      <td>230.780000</td>\n",
              "      <td>233.470000</td>\n",
              "      <td>229.780000</td>\n",
              "    </tr>\n",
              "  </tbody>\n",
              "</table>\n",
              "</div>"
            ],
            "text/plain": [
              "            close      volume        open        high         low\n",
              "count  253.000000  253.000000  253.000000  253.000000  253.000000\n",
              "mean   193.091858   17.222939  193.031711  195.073753  191.073962\n",
              "std     21.750344    0.372905   21.772060   21.914049   21.700140\n",
              "min    142.190000   16.245789  143.980000  145.720000  142.000000\n",
              "25%    174.870000   16.958413  174.940000  176.000000  173.940000\n",
              "50%    197.000000   17.203832  196.450000  199.260000  194.040000\n",
              "75%    208.880000   17.472995  209.220000  210.640000  207.290000\n",
              "max    232.070000   18.375517  230.780000  233.470000  229.780000"
            ]
          },
          "metadata": {
            "tags": []
          },
          "execution_count": 60
        }
      ]
    },
    {
      "cell_type": "code",
      "metadata": {
        "id": "RFlNoPBXZPE9"
      },
      "source": [
        "import numpy as np"
      ],
      "execution_count": null,
      "outputs": []
    },
    {
      "cell_type": "code",
      "metadata": {
        "id": "IyOG-THUZPE-"
      },
      "source": [
        "hq_rev.volume = np.log(hq_rev.volume)"
      ],
      "execution_count": null,
      "outputs": []
    },
    {
      "cell_type": "code",
      "metadata": {
        "id": "wv2mB46dZPE-",
        "colab": {
          "base_uri": "https://localhost:8080/"
        },
        "outputId": "f8e6827b-a47e-448b-8e06-2d261fa76901"
      },
      "source": [
        "Y_train = hq_rev.iloc[:train_count,1] #Volume is target variable\n",
        "Y_test = hq_rev.iloc[train_count:,1]\n",
        "Y_train.shape, Y_test.shape"
      ],
      "execution_count": null,
      "outputs": [
        {
          "output_type": "execute_result",
          "data": {
            "text/plain": [
              "((177,), (76,))"
            ]
          },
          "metadata": {
            "tags": []
          },
          "execution_count": 61
        }
      ]
    },
    {
      "cell_type": "code",
      "metadata": {
        "id": "O3e3VSrBZPE_",
        "colab": {
          "base_uri": "https://localhost:8080/"
        },
        "outputId": "0863dcb7-9b01-4132-f891-626679890ff1"
      },
      "source": [
        "X_train = hq_rev.iloc[:train_count,[0,2,3,4]] # X is close open high & low\n",
        "X_test = hq_rev.iloc[train_count:,[0,2,3,4]]\n",
        "X_train.shape, X_test.shape"
      ],
      "execution_count": null,
      "outputs": [
        {
          "output_type": "execute_result",
          "data": {
            "text/plain": [
              "((177, 4), (76, 4))"
            ]
          },
          "metadata": {
            "tags": []
          },
          "execution_count": 62
        }
      ]
    },
    {
      "cell_type": "code",
      "metadata": {
        "id": "iQIoOCvSZPE_",
        "colab": {
          "base_uri": "https://localhost:8080/",
          "height": 237
        },
        "outputId": "8f16985d-fe16-4a4e-fa50-61946a965539"
      },
      "source": [
        "X_train.head()"
      ],
      "execution_count": null,
      "outputs": [
        {
          "output_type": "execute_result",
          "data": {
            "text/html": [
              "<div>\n",
              "<style scoped>\n",
              "    .dataframe tbody tr th:only-of-type {\n",
              "        vertical-align: middle;\n",
              "    }\n",
              "\n",
              "    .dataframe tbody tr th {\n",
              "        vertical-align: top;\n",
              "    }\n",
              "\n",
              "    .dataframe thead th {\n",
              "        text-align: right;\n",
              "    }\n",
              "</style>\n",
              "<table border=\"1\" class=\"dataframe\">\n",
              "  <thead>\n",
              "    <tr style=\"text-align: right;\">\n",
              "      <th></th>\n",
              "      <th>close</th>\n",
              "      <th>open</th>\n",
              "      <th>high</th>\n",
              "      <th>low</th>\n",
              "    </tr>\n",
              "    <tr>\n",
              "      <th>date</th>\n",
              "      <th></th>\n",
              "      <th></th>\n",
              "      <th></th>\n",
              "      <th></th>\n",
              "    </tr>\n",
              "  </thead>\n",
              "  <tbody>\n",
              "    <tr>\n",
              "      <th>2018-08-09</th>\n",
              "      <td>208.88</td>\n",
              "      <td>207.280</td>\n",
              "      <td>209.780</td>\n",
              "      <td>207.20</td>\n",
              "    </tr>\n",
              "    <tr>\n",
              "      <th>2018-08-10</th>\n",
              "      <td>207.53</td>\n",
              "      <td>207.360</td>\n",
              "      <td>209.100</td>\n",
              "      <td>206.67</td>\n",
              "    </tr>\n",
              "    <tr>\n",
              "      <th>2018-08-13</th>\n",
              "      <td>208.87</td>\n",
              "      <td>207.700</td>\n",
              "      <td>210.952</td>\n",
              "      <td>207.70</td>\n",
              "    </tr>\n",
              "    <tr>\n",
              "      <th>2018-08-14</th>\n",
              "      <td>209.75</td>\n",
              "      <td>210.155</td>\n",
              "      <td>210.560</td>\n",
              "      <td>208.26</td>\n",
              "    </tr>\n",
              "    <tr>\n",
              "      <th>2018-08-15</th>\n",
              "      <td>210.24</td>\n",
              "      <td>209.220</td>\n",
              "      <td>210.740</td>\n",
              "      <td>208.33</td>\n",
              "    </tr>\n",
              "  </tbody>\n",
              "</table>\n",
              "</div>"
            ],
            "text/plain": [
              "             close     open     high     low\n",
              "date                                        \n",
              "2018-08-09  208.88  207.280  209.780  207.20\n",
              "2018-08-10  207.53  207.360  209.100  206.67\n",
              "2018-08-13  208.87  207.700  210.952  207.70\n",
              "2018-08-14  209.75  210.155  210.560  208.26\n",
              "2018-08-15  210.24  209.220  210.740  208.33"
            ]
          },
          "metadata": {
            "tags": []
          },
          "execution_count": 63
        }
      ]
    },
    {
      "cell_type": "code",
      "metadata": {
        "id": "1wlPMBeqZPFA"
      },
      "source": [
        "reg = LinearRegression().fit(X_train, Y_train)"
      ],
      "execution_count": null,
      "outputs": []
    },
    {
      "cell_type": "code",
      "metadata": {
        "id": "NE6GLE3lZPFA",
        "colab": {
          "base_uri": "https://localhost:8080/"
        },
        "outputId": "508fff02-c756-4bcf-bf65-33e024780cc6"
      },
      "source": [
        "reg.coef_, reg.intercept_"
      ],
      "execution_count": null,
      "outputs": [
        {
          "output_type": "execute_result",
          "data": {
            "text/plain": [
              "(array([-0.02487968, -0.01492586,  0.14495544, -0.10907843]),\n",
              " 17.51450484680442)"
            ]
          },
          "metadata": {
            "tags": []
          },
          "execution_count": 65
        }
      ]
    },
    {
      "cell_type": "code",
      "metadata": {
        "id": "KtHO0qZTZPFA"
      },
      "source": [
        "Y_pred = reg.predict(X_test)"
      ],
      "execution_count": null,
      "outputs": []
    },
    {
      "cell_type": "code",
      "metadata": {
        "id": "DQRirPdYZPFB",
        "colab": {
          "base_uri": "https://localhost:8080/"
        },
        "outputId": "148b7be0-fc5d-4ea9-bbd8-133940385d9e"
      },
      "source": [
        "rmse_metric(Y_test.values,Y_pred)"
      ],
      "execution_count": null,
      "outputs": [
        {
          "output_type": "execute_result",
          "data": {
            "text/plain": [
              "0.2789655336730077"
            ]
          },
          "metadata": {
            "tags": []
          },
          "execution_count": 67
        }
      ]
    },
    {
      "cell_type": "markdown",
      "metadata": {
        "id": "Psde2zqwZPFB"
      },
      "source": [
        "# Plot Predicted and actual values"
      ]
    },
    {
      "cell_type": "code",
      "metadata": {
        "id": "rcZWGHS3ZPFB"
      },
      "source": [
        "res = pd.DataFrame([Y_pred,Y_test])\n",
        "res = res.T\n",
        "res.columns = ['Y_pred','Y_test']"
      ],
      "execution_count": null,
      "outputs": []
    },
    {
      "cell_type": "code",
      "metadata": {
        "id": "8liNA_taZPFB",
        "colab": {
          "base_uri": "https://localhost:8080/",
          "height": 206
        },
        "outputId": "0e3a9a94-70e4-46ef-d5cd-134072cf1037"
      },
      "source": [
        "res.head()"
      ],
      "execution_count": null,
      "outputs": [
        {
          "output_type": "execute_result",
          "data": {
            "text/html": [
              "<div>\n",
              "<style scoped>\n",
              "    .dataframe tbody tr th:only-of-type {\n",
              "        vertical-align: middle;\n",
              "    }\n",
              "\n",
              "    .dataframe tbody tr th {\n",
              "        vertical-align: top;\n",
              "    }\n",
              "\n",
              "    .dataframe thead th {\n",
              "        text-align: right;\n",
              "    }\n",
              "</style>\n",
              "<table border=\"1\" class=\"dataframe\">\n",
              "  <thead>\n",
              "    <tr style=\"text-align: right;\">\n",
              "      <th></th>\n",
              "      <th>Y_pred</th>\n",
              "      <th>Y_test</th>\n",
              "    </tr>\n",
              "  </thead>\n",
              "  <tbody>\n",
              "    <tr>\n",
              "      <th>0</th>\n",
              "      <td>17.061864</td>\n",
              "      <td>16.731325</td>\n",
              "    </tr>\n",
              "    <tr>\n",
              "      <th>1</th>\n",
              "      <td>17.042211</td>\n",
              "      <td>16.739358</td>\n",
              "    </tr>\n",
              "    <tr>\n",
              "      <th>2</th>\n",
              "      <td>16.992772</td>\n",
              "      <td>16.907024</td>\n",
              "    </tr>\n",
              "    <tr>\n",
              "      <th>3</th>\n",
              "      <td>17.256385</td>\n",
              "      <td>17.638728</td>\n",
              "    </tr>\n",
              "    <tr>\n",
              "      <th>4</th>\n",
              "      <td>17.532072</td>\n",
              "      <td>17.987238</td>\n",
              "    </tr>\n",
              "  </tbody>\n",
              "</table>\n",
              "</div>"
            ],
            "text/plain": [
              "      Y_pred     Y_test\n",
              "0  17.061864  16.731325\n",
              "1  17.042211  16.739358\n",
              "2  16.992772  16.907024\n",
              "3  17.256385  17.638728\n",
              "4  17.532072  17.987238"
            ]
          },
          "metadata": {
            "tags": []
          },
          "execution_count": 69
        }
      ]
    },
    {
      "cell_type": "code",
      "metadata": {
        "id": "9Zq7t_3NZPFC",
        "colab": {
          "base_uri": "https://localhost:8080/",
          "height": 283
        },
        "outputId": "318422dc-95ae-4f69-df01-9de5a09c6dfd"
      },
      "source": [
        "res[['Y_pred', 'Y_test']].plot()"
      ],
      "execution_count": null,
      "outputs": [
        {
          "output_type": "execute_result",
          "data": {
            "text/plain": [
              "<matplotlib.axes._subplots.AxesSubplot at 0x7f243a18ef10>"
            ]
          },
          "metadata": {
            "tags": []
          },
          "execution_count": 70
        },
        {
          "output_type": "display_data",
          "data": {
            "image/png": "[encoded data removed]",
            "text/plain": [
              "<Figure size 432x288 with 1 Axes>"
            ]
          },
          "metadata": {
            "tags": [],
            "needs_background": "light"
          }
        }
      ]
    },
    {
      "cell_type": "code",
      "metadata": {
        "id": "oSWCqBPlZPFD",
        "outputId": "c46741a2-5207-4158-ade0-cd2228931880"
      },
      "source": [
        "Y_test.plot()"
      ],
      "execution_count": null,
      "outputs": [
        {
          "output_type": "execute_result",
          "data": {
            "text/plain": [
              "<matplotlib.axes._subplots.AxesSubplot at 0x1fcc40626c8>"
            ]
          },
          "metadata": {
            "tags": []
          },
          "execution_count": 119
        },
        {
          "output_type": "display_data",
          "data": {
            "image/png": "[encoded data removed]",
            "text/plain": [
              "<Figure size 432x288 with 1 Axes>"
            ]
          },
          "metadata": {
            "tags": [],
            "needs_background": "light"
          }
        }
      ]
    },
    {
      "cell_type": "code",
      "metadata": {
        "id": "VOwVpWGPZPFD",
        "outputId": "8c10c4c6-22ed-4ca3-ec69-4c00bb2318bc"
      },
      "source": [
        "pd.Series(Y_pred).plot()"
      ],
      "execution_count": null,
      "outputs": [
        {
          "output_type": "execute_result",
          "data": {
            "text/plain": [
              "<matplotlib.axes._subplots.AxesSubplot at 0x1fcc3c72f08>"
            ]
          },
          "metadata": {
            "tags": []
          },
          "execution_count": 121
        },
        {
          "output_type": "display_data",
          "data": {
            "image/png": "[encoded data removed]",
            "text/plain": [
              "<Figure size 432x288 with 1 Axes>"
            ]
          },
          "metadata": {
            "tags": [],
            "needs_background": "light"
          }
        }
      ]
    },
    {
      "cell_type": "markdown",
      "metadata": {
        "id": "-HwbzvH94mmN"
      },
      "source": [
        "# Exercise\n",
        "\n",
        "Take open and close values of stock from above data\n",
        "\n",
        "Predict value of close using open\n",
        "\n",
        "Plot the actual and predicted values\n",
        "\n",
        "Calculate the RMSE\n"
      ]
    },
    {
      "cell_type": "code",
      "metadata": {
        "colab": {
          "base_uri": "https://localhost:8080/",
          "height": 237
        },
        "id": "P5oCf-q74xf_",
        "outputId": "2dea486d-9223-4525-fe4c-2253c6fee7d9"
      },
      "source": [
        "hq_rev.head()"
      ],
      "execution_count": null,
      "outputs": [
        {
          "output_type": "execute_result",
          "data": {
            "text/html": [
              "<div>\n",
              "<style scoped>\n",
              "    .dataframe tbody tr th:only-of-type {\n",
              "        vertical-align: middle;\n",
              "    }\n",
              "\n",
              "    .dataframe tbody tr th {\n",
              "        vertical-align: top;\n",
              "    }\n",
              "\n",
              "    .dataframe thead th {\n",
              "        text-align: right;\n",
              "    }\n",
              "</style>\n",
              "<table border=\"1\" class=\"dataframe\">\n",
              "  <thead>\n",
              "    <tr style=\"text-align: right;\">\n",
              "      <th></th>\n",
              "      <th>close</th>\n",
              "      <th>volume</th>\n",
              "      <th>open</th>\n",
              "      <th>high</th>\n",
              "      <th>low</th>\n",
              "    </tr>\n",
              "    <tr>\n",
              "      <th>date</th>\n",
              "      <th></th>\n",
              "      <th></th>\n",
              "      <th></th>\n",
              "      <th></th>\n",
              "      <th></th>\n",
              "    </tr>\n",
              "  </thead>\n",
              "  <tbody>\n",
              "    <tr>\n",
              "      <th>2018-08-09</th>\n",
              "      <td>208.88</td>\n",
              "      <td>16.967799</td>\n",
              "      <td>207.280</td>\n",
              "      <td>209.780</td>\n",
              "      <td>207.20</td>\n",
              "    </tr>\n",
              "    <tr>\n",
              "      <th>2018-08-10</th>\n",
              "      <td>207.53</td>\n",
              "      <td>17.017950</td>\n",
              "      <td>207.360</td>\n",
              "      <td>209.100</td>\n",
              "      <td>206.67</td>\n",
              "    </tr>\n",
              "    <tr>\n",
              "      <th>2018-08-13</th>\n",
              "      <td>208.87</td>\n",
              "      <td>17.068382</td>\n",
              "      <td>207.700</td>\n",
              "      <td>210.952</td>\n",
              "      <td>207.70</td>\n",
              "    </tr>\n",
              "    <tr>\n",
              "      <th>2018-08-14</th>\n",
              "      <td>209.75</td>\n",
              "      <td>16.844642</td>\n",
              "      <td>210.155</td>\n",
              "      <td>210.560</td>\n",
              "      <td>208.26</td>\n",
              "    </tr>\n",
              "    <tr>\n",
              "      <th>2018-08-15</th>\n",
              "      <td>210.24</td>\n",
              "      <td>17.168750</td>\n",
              "      <td>209.220</td>\n",
              "      <td>210.740</td>\n",
              "      <td>208.33</td>\n",
              "    </tr>\n",
              "  </tbody>\n",
              "</table>\n",
              "</div>"
            ],
            "text/plain": [
              "             close     volume     open     high     low\n",
              "date                                                   \n",
              "2018-08-09  208.88  16.967799  207.280  209.780  207.20\n",
              "2018-08-10  207.53  17.017950  207.360  209.100  206.67\n",
              "2018-08-13  208.87  17.068382  207.700  210.952  207.70\n",
              "2018-08-14  209.75  16.844642  210.155  210.560  208.26\n",
              "2018-08-15  210.24  17.168750  209.220  210.740  208.33"
            ]
          },
          "metadata": {
            "tags": []
          },
          "execution_count": 87
        }
      ]
    },
    {
      "cell_type": "code",
      "metadata": {
        "colab": {
          "base_uri": "https://localhost:8080/"
        },
        "id": "tOm00MtWArOd",
        "outputId": "b7bedfac-3534-4b84-9f18-ae21aa2b22cb"
      },
      "source": [
        "Y_train = hq_rev.iloc[:train_count,0] #Close is target variable\n",
        "Y_test = hq_rev.iloc[train_count:,0]\n",
        "Y_train.shape, Y_test.shape"
      ],
      "execution_count": null,
      "outputs": [
        {
          "output_type": "execute_result",
          "data": {
            "text/plain": [
              "((177,), (76,))"
            ]
          },
          "metadata": {
            "tags": []
          },
          "execution_count": 108
        }
      ]
    },
    {
      "cell_type": "code",
      "metadata": {
        "colab": {
          "base_uri": "https://localhost:8080/"
        },
        "id": "HtDRM54mA2hh",
        "outputId": "46ceed3e-c7b5-4cb7-b24f-c98ad400566c"
      },
      "source": [
        "X_train = hq_rev.iloc[:train_count,2] # X is close open high & low\n",
        "X_test = hq_rev.iloc[train_count:,2]\n",
        "X_train.shape, X_test.shape"
      ],
      "execution_count": null,
      "outputs": [
        {
          "output_type": "execute_result",
          "data": {
            "text/plain": [
              "((177,), (76,))"
            ]
          },
          "metadata": {
            "tags": []
          },
          "execution_count": 109
        }
      ]
    },
    {
      "cell_type": "code",
      "metadata": {
        "colab": {
          "base_uri": "https://localhost:8080/"
        },
        "id": "jFZmmt9TBMFt",
        "outputId": "5a4bd835-d17f-4a13-9426-0bc50210ceb8"
      },
      "source": [
        "X_train = X_train.values.reshape(-1,1) # adding Dummy dim\n",
        "X_test = X_test.values.reshape(-1,1) # adding Dummy dim\n",
        "X_train.shape, X_test.shape"
      ],
      "execution_count": null,
      "outputs": [
        {
          "output_type": "execute_result",
          "data": {
            "text/plain": [
              "((177, 1), (76, 1))"
            ]
          },
          "metadata": {
            "tags": []
          },
          "execution_count": 110
        }
      ]
    },
    {
      "cell_type": "code",
      "metadata": {
        "colab": {
          "base_uri": "https://localhost:8080/"
        },
        "id": "GmAB-utAA6gx",
        "outputId": "a350861a-810e-41bd-fe35-3dae923a40a6"
      },
      "source": [
        "X_train = hq_rev.iloc[:train_count,[2]] # X is close open high & low\n",
        "X_test = hq_rev.iloc[train_count:,[2]]\n",
        "X_train.shape, X_test.shape"
      ],
      "execution_count": null,
      "outputs": [
        {
          "output_type": "execute_result",
          "data": {
            "text/plain": [
              "((177, 1), (76, 1))"
            ]
          },
          "metadata": {
            "tags": []
          },
          "execution_count": 92
        }
      ]
    },
    {
      "cell_type": "code",
      "metadata": {
        "id": "0DnbiKEsBFKn"
      },
      "source": [
        "reg = LinearRegression().fit(X_train, Y_train)"
      ],
      "execution_count": null,
      "outputs": []
    },
    {
      "cell_type": "code",
      "metadata": {
        "colab": {
          "base_uri": "https://localhost:8080/"
        },
        "id": "NtlfsgP2CD0k",
        "outputId": "a4d1d77c-fe46-4672-f2a6-7414e64f67bf"
      },
      "source": [
        "reg.coef_, reg.intercept_"
      ],
      "execution_count": null,
      "outputs": [
        {
          "output_type": "execute_result",
          "data": {
            "text/plain": [
              "(array([0.99442609]), 1.1057457142033797)"
            ]
          },
          "metadata": {
            "tags": []
          },
          "execution_count": 112
        }
      ]
    },
    {
      "cell_type": "code",
      "metadata": {
        "id": "tawMP5yVCH3t"
      },
      "source": [
        "Y_pred = reg.predict(X_test)"
      ],
      "execution_count": null,
      "outputs": []
    },
    {
      "cell_type": "code",
      "metadata": {
        "colab": {
          "base_uri": "https://localhost:8080/"
        },
        "id": "VmDPfNIoCLBD",
        "outputId": "6484c9a3-e26a-432f-fefb-c773b46ef3fe"
      },
      "source": [
        "rmse_metric(Y_test.values,Y_pred)"
      ],
      "execution_count": null,
      "outputs": [
        {
          "output_type": "execute_result",
          "data": {
            "text/plain": [
              "1.9511649655329752"
            ]
          },
          "metadata": {
            "tags": []
          },
          "execution_count": 114
        }
      ]
    },
    {
      "cell_type": "code",
      "metadata": {
        "colab": {
          "base_uri": "https://localhost:8080/",
          "height": 283
        },
        "id": "XAicibDUCOuq",
        "outputId": "df1ebe92-64b2-4748-bf8b-75d23e523f47"
      },
      "source": [
        "res = pd.DataFrame([Y_pred,Y_test])\n",
        "res = res.T\n",
        "res.columns = ['Y_pred','Y_test']\n",
        "res[['Y_pred', 'Y_test']].plot()"
      ],
      "execution_count": null,
      "outputs": [
        {
          "output_type": "execute_result",
          "data": {
            "text/plain": [
              "<matplotlib.axes._subplots.AxesSubplot at 0x7f2439e4b5d0>"
            ]
          },
          "metadata": {
            "tags": []
          },
          "execution_count": 115
        },
        {
          "output_type": "display_data",
          "data": {
            "image/png": "[encoded data removed]",
            "text/plain": [
              "<Figure size 432x288 with 1 Axes>"
            ]
          },
          "metadata": {
            "tags": [],
            "needs_background": "light"
          }
        }
      ]
    },
    {
      "cell_type": "markdown",
      "metadata": {
        "id": "UmJq384MrWng"
      },
      "source": [
        "# Exercise\n",
        "\n",
        "Use high column to predict close value of the stock\n",
        "\n",
        "X -> high\n",
        "Y -> close"
      ]
    },
    {
      "cell_type": "code",
      "metadata": {
        "id": "adIaaffvCWXC"
      },
      "source": [
        "df = pd.read_csv(\"/content/HistoricalQuotes.csv\")"
      ],
      "execution_count": null,
      "outputs": []
    },
    {
      "cell_type": "code",
      "metadata": {
        "colab": {
          "base_uri": "https://localhost:8080/",
          "height": 206
        },
        "id": "odV1qg5Rrovp",
        "outputId": "ed2963ab-52b2-48ed-a0e6-12a93d778969"
      },
      "source": [
        "df.head()"
      ],
      "execution_count": null,
      "outputs": [
        {
          "output_type": "execute_result",
          "data": {
            "text/html": [
              "<div>\n",
              "<style scoped>\n",
              "    .dataframe tbody tr th:only-of-type {\n",
              "        vertical-align: middle;\n",
              "    }\n",
              "\n",
              "    .dataframe tbody tr th {\n",
              "        vertical-align: top;\n",
              "    }\n",
              "\n",
              "    .dataframe thead th {\n",
              "        text-align: right;\n",
              "    }\n",
              "</style>\n",
              "<table border=\"1\" class=\"dataframe\">\n",
              "  <thead>\n",
              "    <tr style=\"text-align: right;\">\n",
              "      <th></th>\n",
              "      <th>date</th>\n",
              "      <th>close</th>\n",
              "      <th>volume</th>\n",
              "      <th>open</th>\n",
              "      <th>high</th>\n",
              "      <th>low</th>\n",
              "    </tr>\n",
              "  </thead>\n",
              "  <tbody>\n",
              "    <tr>\n",
              "      <th>0</th>\n",
              "      <td>2019/08/10</td>\n",
              "      <td>200.99</td>\n",
              "      <td>24,619,446</td>\n",
              "      <td>201.23</td>\n",
              "      <td>202.760</td>\n",
              "      <td>199.29</td>\n",
              "    </tr>\n",
              "    <tr>\n",
              "      <th>1</th>\n",
              "      <td>2019/08/09</td>\n",
              "      <td>200.99</td>\n",
              "      <td>24619750.0000</td>\n",
              "      <td>201.30</td>\n",
              "      <td>202.760</td>\n",
              "      <td>199.29</td>\n",
              "    </tr>\n",
              "    <tr>\n",
              "      <th>2</th>\n",
              "      <td>2019/08/08</td>\n",
              "      <td>203.43</td>\n",
              "      <td>27009520.0000</td>\n",
              "      <td>200.20</td>\n",
              "      <td>203.530</td>\n",
              "      <td>199.39</td>\n",
              "    </tr>\n",
              "    <tr>\n",
              "      <th>3</th>\n",
              "      <td>2019/08/07</td>\n",
              "      <td>199.04</td>\n",
              "      <td>33364400.0000</td>\n",
              "      <td>195.41</td>\n",
              "      <td>199.560</td>\n",
              "      <td>193.82</td>\n",
              "    </tr>\n",
              "    <tr>\n",
              "      <th>4</th>\n",
              "      <td>2019/08/06</td>\n",
              "      <td>197.00</td>\n",
              "      <td>35824790.0000</td>\n",
              "      <td>196.31</td>\n",
              "      <td>198.067</td>\n",
              "      <td>194.04</td>\n",
              "    </tr>\n",
              "  </tbody>\n",
              "</table>\n",
              "</div>"
            ],
            "text/plain": [
              "         date   close         volume    open     high     low\n",
              "0  2019/08/10  200.99     24,619,446  201.23  202.760  199.29\n",
              "1  2019/08/09  200.99  24619750.0000  201.30  202.760  199.29\n",
              "2  2019/08/08  203.43  27009520.0000  200.20  203.530  199.39\n",
              "3  2019/08/07  199.04  33364400.0000  195.41  199.560  193.82\n",
              "4  2019/08/06  197.00  35824790.0000  196.31  198.067  194.04"
            ]
          },
          "metadata": {
            "tags": []
          },
          "execution_count": 44
        }
      ]
    },
    {
      "cell_type": "code",
      "metadata": {
        "colab": {
          "base_uri": "https://localhost:8080/"
        },
        "id": "3WZR-9XPrq1p",
        "outputId": "c9d5d948-94bd-4de6-f57b-437784fcb7bb"
      },
      "source": [
        "df.dtypes"
      ],
      "execution_count": null,
      "outputs": [
        {
          "output_type": "execute_result",
          "data": {
            "text/plain": [
              "date       object\n",
              "close     float64\n",
              "volume     object\n",
              "open      float64\n",
              "high      float64\n",
              "low       float64\n",
              "dtype: object"
            ]
          },
          "metadata": {
            "tags": []
          },
          "execution_count": 45
        }
      ]
    },
    {
      "cell_type": "code",
      "metadata": {
        "id": "TQQjPHUQrtHM"
      },
      "source": [
        "X = df[['high']] #high column\n",
        "Y = df['close']"
      ],
      "execution_count": null,
      "outputs": []
    },
    {
      "cell_type": "code",
      "metadata": {
        "id": "kBGqvxMmr_CH"
      },
      "source": [
        "X_train, X_test, Y_train, Y_test = train_test_split(X,Y,test_size  = 0.3, random_state =7)"
      ],
      "execution_count": null,
      "outputs": []
    },
    {
      "cell_type": "code",
      "metadata": {
        "id": "R5802fq2tHaE"
      },
      "source": [
        "reg = LinearRegression().fit(X_train, Y_train)"
      ],
      "execution_count": null,
      "outputs": []
    },
    {
      "cell_type": "code",
      "metadata": {
        "colab": {
          "base_uri": "https://localhost:8080/"
        },
        "id": "5c5O-_cstVA_",
        "outputId": "8ee0ed29-ba0b-4b06-930d-2f097f8b142b"
      },
      "source": [
        "reg.coef_"
      ],
      "execution_count": null,
      "outputs": [
        {
          "output_type": "execute_result",
          "data": {
            "text/plain": [
              "array([0.98969882])"
            ]
          },
          "metadata": {
            "tags": []
          },
          "execution_count": 56
        }
      ]
    },
    {
      "cell_type": "code",
      "metadata": {
        "colab": {
          "base_uri": "https://localhost:8080/"
        },
        "id": "qVu59_Eptlw0",
        "outputId": "5a360a05-1157-488a-bdec-a28ef9bbd154"
      },
      "source": [
        "reg.intercept_"
      ],
      "execution_count": null,
      "outputs": [
        {
          "output_type": "execute_result",
          "data": {
            "text/plain": [
              "-0.03397848262162029"
            ]
          },
          "metadata": {
            "tags": []
          },
          "execution_count": 57
        }
      ]
    },
    {
      "cell_type": "code",
      "metadata": {
        "id": "mWbbKVectnyG"
      },
      "source": [
        "Y_pred = reg.predict(X_test)"
      ],
      "execution_count": null,
      "outputs": []
    },
    {
      "cell_type": "code",
      "metadata": {
        "id": "7W_xKu75uPC1",
        "outputId": "eb94caea-bfbe-4a4e-d156-733998403751",
        "colab": {
          "base_uri": "https://localhost:8080/"
        }
      },
      "source": [
        "rmse_metric(Y_test.values,Y_pred)"
      ],
      "execution_count": null,
      "outputs": [
        {
          "output_type": "execute_result",
          "data": {
            "text/plain": [
              "1.737890802048508"
            ]
          },
          "metadata": {
            "tags": []
          },
          "execution_count": 59
        }
      ]
    },
    {
      "cell_type": "code",
      "metadata": {
        "id": "q7KbKiNMuR4T"
      },
      "source": [],
      "execution_count": null,
      "outputs": []
    }
  ]
}