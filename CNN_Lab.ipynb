{
  "cells": [
    {
      "cell_type": "code",
      "execution_count": 1,
      "metadata": {
        "id": "xS3Kl_c6Zzl7"
      },
      "outputs": [],
      "source": [
        "#Import Required Libraries\n",
        "import pandas as pd\n",
        "import numpy as np\n",
        "import matplotlib.pyplot as plt\n",
        "import seaborn as sns\n",
        "import warnings\n",
        "warnings.filterwarnings('ignore')"
      ]
    },
    {
      "cell_type": "code",
      "execution_count": 2,
      "metadata": {
        "colab": {
          "base_uri": "https://localhost:8080/"
        },
        "id": "o4gTXGXIbYEw",
        "outputId": "1a01c1c6-d06e-47b2-ea1f-f42095e163ab"
      },
      "outputs": [
        {
          "output_type": "stream",
          "name": "stdout",
          "text": [
            "Drive already mounted at /content/drive; to attempt to forcibly remount, call drive.mount(\"/content/drive\", force_remount=True).\n"
          ]
        }
      ],
      "source": [
        "from google.colab import drive\n",
        "drive.mount('/content/drive')"
      ]
    },
    {
      "cell_type": "code",
      "execution_count": 3,
      "metadata": {
        "id": "U0DRwBldag97"
      },
      "outputs": [],
      "source": [
        "import keras\n",
        "from keras.applications.vgg19 import VGG19"
      ]
    },
    {
      "cell_type": "code",
      "execution_count": null,
      "metadata": {
        "id": "PgmPQscBasz3"
      },
      "outputs": [],
      "source": [
        "image_size = [224,224]\n",
        "WIDTH = 151\n",
        "HEIGHT = 136\n",
        "BATCH_SIZE = 32\n",
        "train_path = '/content/drive/MyDrive/March_24/Dataset/Train'\n",
        "test_path = '/content/drive/MyDrive/March_24/Dataset/Test'"
      ]
    },
    {
      "cell_type": "code",
      "execution_count": null,
      "metadata": {
        "id": "dl9Ft9Jfa1mz"
      },
      "outputs": [],
      "source": [
        "vgg19 = VGG19(input_shape=image_size+[3],weights=\"imagenet\",include_top=False)\n",
        "\n",
        "for layers in vgg19.layers:\n",
        "    layers.trainable=False"
      ]
    },
    {
      "cell_type": "code",
      "execution_count": null,
      "metadata": {
        "colab": {
          "base_uri": "https://localhost:8080/"
        },
        "id": "_eYp5nkXa6v8",
        "outputId": "d109ad08-62c4-4f9b-e50b-f9bc94ee8583"
      },
      "outputs": [
        {
          "name": "stdout",
          "output_type": "stream",
          "text": [
            "Model: \"model_1\"\n",
            "_________________________________________________________________\n",
            " Layer (type)                Output Shape              Param #   \n",
            "=================================================================\n",
            " input_2 (InputLayer)        [(None, 224, 224, 3)]     0         \n",
            "                                                                 \n",
            " block1_conv1 (Conv2D)       (None, 224, 224, 64)      1792      \n",
            "                                                                 \n",
            " block1_conv2 (Conv2D)       (None, 224, 224, 64)      36928     \n",
            "                                                                 \n",
            " block1_pool (MaxPooling2D)  (None, 112, 112, 64)      0         \n",
            "                                                                 \n",
            " block2_conv1 (Conv2D)       (None, 112, 112, 128)     73856     \n",
            "                                                                 \n",
            " block2_conv2 (Conv2D)       (None, 112, 112, 128)     147584    \n",
            "                                                                 \n",
            " block2_pool (MaxPooling2D)  (None, 56, 56, 128)       0         \n",
            "                                                                 \n",
            " block3_conv1 (Conv2D)       (None, 56, 56, 256)       295168    \n",
            "                                                                 \n",
            " block3_conv2 (Conv2D)       (None, 56, 56, 256)       590080    \n",
            "                                                                 \n",
            " block3_conv3 (Conv2D)       (None, 56, 56, 256)       590080    \n",
            "                                                                 \n",
            " block3_conv4 (Conv2D)       (None, 56, 56, 256)       590080    \n",
            "                                                                 \n",
            " block3_pool (MaxPooling2D)  (None, 28, 28, 256)       0         \n",
            "                                                                 \n",
            " block4_conv1 (Conv2D)       (None, 28, 28, 512)       1180160   \n",
            "                                                                 \n",
            " block4_conv2 (Conv2D)       (None, 28, 28, 512)       2359808   \n",
            "                                                                 \n",
            " block4_conv3 (Conv2D)       (None, 28, 28, 512)       2359808   \n",
            "                                                                 \n",
            " block4_conv4 (Conv2D)       (None, 28, 28, 512)       2359808   \n",
            "                                                                 \n",
            " block4_pool (MaxPooling2D)  (None, 14, 14, 512)       0         \n",
            "                                                                 \n",
            " block5_conv1 (Conv2D)       (None, 14, 14, 512)       2359808   \n",
            "                                                                 \n",
            " block5_conv2 (Conv2D)       (None, 14, 14, 512)       2359808   \n",
            "                                                                 \n",
            " block5_conv3 (Conv2D)       (None, 14, 14, 512)       2359808   \n",
            "                                                                 \n",
            " block5_conv4 (Conv2D)       (None, 14, 14, 512)       2359808   \n",
            "                                                                 \n",
            " block5_pool (MaxPooling2D)  (None, 7, 7, 512)         0         \n",
            "                                                                 \n",
            " flatten_1 (Flatten)         (None, 25088)             0         \n",
            "                                                                 \n",
            " dense_1 (Dense)             (None, 2)                 50178     \n",
            "                                                                 \n",
            "=================================================================\n",
            "Total params: 20074562 (76.58 MB)\n",
            "Trainable params: 50178 (196.01 KB)\n",
            "Non-trainable params: 20024384 (76.39 MB)\n",
            "_________________________________________________________________\n"
          ]
        }
      ],
      "source": [
        "from keras.layers import Dense, Flatten\n",
        "from keras.models import Sequential, Model\n",
        "x = Flatten()(vgg19.output)\n",
        "prediction = Dense(2, activation='softmax')(x)\n",
        "model = Model(inputs=vgg19.input, outputs=prediction)\n",
        "model.summary()"
      ]
    },
    {
      "cell_type": "code",
      "execution_count": null,
      "metadata": {
        "id": "IsjeQ-XJa_UG"
      },
      "outputs": [],
      "source": [
        "model.compile(loss='categorical_crossentropy',\n",
        "             optimizer='adam',\n",
        "             metrics=['accuracy'])"
      ]
    },
    {
      "cell_type": "code",
      "execution_count": null,
      "metadata": {
        "colab": {
          "base_uri": "https://localhost:8080/"
        },
        "id": "NwMQv-KQbDBZ",
        "outputId": "9864430a-0219-4008-81b1-81e4e49181f8"
      },
      "outputs": [
        {
          "name": "stdout",
          "output_type": "stream",
          "text": [
            "Found 416 files belonging to 2 classes.\n"
          ]
        }
      ],
      "source": [
        "import tensorflow as tf\n",
        "train_dataset = tf.keras.preprocessing.image_dataset_from_directory(\n",
        "            directory=train_path,\n",
        "            shuffle=True,\n",
        "            image_size=(WIDTH,HEIGHT),\n",
        "            batch_size = BATCH_SIZE,\n",
        ")"
      ]
    },
    {
      "cell_type": "code",
      "execution_count": null,
      "metadata": {
        "colab": {
          "base_uri": "https://localhost:8080/"
        },
        "id": "FXO53sb3bFDW",
        "outputId": "018f1a65-149b-4c48-f6ad-d2464dde65b8"
      },
      "outputs": [
        {
          "name": "stdout",
          "output_type": "stream",
          "text": [
            "Found 416 images belonging to 2 classes.\n"
          ]
        }
      ],
      "source": [
        "from keras.preprocessing.image import ImageDataGenerator\n",
        "train_datagen = ImageDataGenerator(rescale = 1./255,\n",
        "                                  shear_range=0.2,\n",
        "                                  zoom_range=0.2,\n",
        "                                  horizontal_flip=True)\n",
        "\n",
        "test_datagen = ImageDataGenerator(rescale=1./255)\n",
        "\n",
        "training_set = train_datagen.flow_from_directory('/content/drive/MyDrive/March_24/Dataset/Train',\n",
        "                                                target_size = (224,224),\n",
        "                                                batch_size=32,\n",
        "                                                class_mode='categorical')"
      ]
    },
    {
      "cell_type": "code",
      "execution_count": null,
      "metadata": {
        "colab": {
          "base_uri": "https://localhost:8080/"
        },
        "id": "LHlvcuvocDmK",
        "outputId": "d5cbd4bf-6f47-4af4-de2b-bab558de1d5e"
      },
      "outputs": [
        {
          "name": "stdout",
          "output_type": "stream",
          "text": [
            "Found 134 images belonging to 2 classes.\n"
          ]
        }
      ],
      "source": [
        "test_set = test_datagen.flow_from_directory('/content/drive/MyDrive/March_24/Dataset/Test',\n",
        "                                            target_size = (224, 224),\n",
        "                                            batch_size = 32,\n",
        "                                            class_mode = 'categorical')"
      ]
    },
    {
      "cell_type": "code",
      "execution_count": null,
      "metadata": {
        "colab": {
          "background_save": true,
          "base_uri": "https://localhost:8080/"
        },
        "id": "iaoJKJ8FcQYZ",
        "outputId": "afccd7f8-d5c3-4865-ebd2-90159c44b48c"
      },
      "outputs": [
        {
          "name": "stdout",
          "output_type": "stream",
          "text": [
            "Epoch 1/50\n",
            "13/13 [==============================] - 416s 32s/step - loss: 1.5811 - accuracy: 0.5673 - val_loss: 0.8391 - val_accuracy: 0.6791\n",
            "Epoch 2/50\n",
            "13/13 [==============================] - 387s 30s/step - loss: 0.6827 - accuracy: 0.6538 - val_loss: 1.0230 - val_accuracy: 0.4925\n",
            "Epoch 3/50\n",
            "13/13 [==============================] - 381s 30s/step - loss: 0.5569 - accuracy: 0.7115 - val_loss: 0.5305 - val_accuracy: 0.7090\n",
            "Epoch 4/50\n",
            "13/13 [==============================] - 380s 30s/step - loss: 0.3849 - accuracy: 0.8197 - val_loss: 0.4601 - val_accuracy: 0.7090\n",
            "Epoch 5/50\n",
            "13/13 [==============================] - 430s 34s/step - loss: 0.3156 - accuracy: 0.8750 - val_loss: 0.4223 - val_accuracy: 0.7910\n",
            "Epoch 6/50\n",
            "13/13 [==============================] - 375s 29s/step - loss: 0.2733 - accuracy: 0.9135 - val_loss: 0.3939 - val_accuracy: 0.8209\n",
            "Epoch 7/50\n",
            "13/13 [==============================] - 381s 30s/step - loss: 0.2671 - accuracy: 0.9111 - val_loss: 0.4118 - val_accuracy: 0.8060\n",
            "Epoch 8/50\n",
            "13/13 [==============================] - 375s 29s/step - loss: 0.2569 - accuracy: 0.9062 - val_loss: 0.4288 - val_accuracy: 0.7687\n",
            "Epoch 9/50\n",
            "13/13 [==============================] - 380s 30s/step - loss: 0.2327 - accuracy: 0.9327 - val_loss: 0.4246 - val_accuracy: 0.7687\n",
            "Epoch 10/50\n",
            "13/13 [==============================] - 375s 29s/step - loss: 0.2295 - accuracy: 0.9159 - val_loss: 0.3520 - val_accuracy: 0.7910\n",
            "Epoch 11/50\n",
            "13/13 [==============================] - 433s 34s/step - loss: 0.2575 - accuracy: 0.9038 - val_loss: 0.3490 - val_accuracy: 0.8358\n",
            "Epoch 12/50\n",
            "13/13 [==============================] - 380s 30s/step - loss: 0.2281 - accuracy: 0.9279 - val_loss: 0.2968 - val_accuracy: 0.9030\n",
            "Epoch 13/50\n",
            "13/13 [==============================] - 374s 29s/step - loss: 0.1892 - accuracy: 0.9351 - val_loss: 0.2913 - val_accuracy: 0.8881\n",
            "Epoch 14/50\n",
            "13/13 [==============================] - ETA: 0s - loss: 0.2251 - accuracy: 0.9183 "
          ]
        }
      ],
      "source": [
        "r = model.fit_generator(\n",
        "  training_set,\n",
        "  validation_data=test_set,\n",
        "  epochs=10,\n",
        "  steps_per_epoch=len(training_set),\n",
        "  validation_steps=len(test_set)\n",
        ")"
      ]
    },
    {
      "cell_type": "code",
      "execution_count": null,
      "metadata": {
        "id": "NFCiqhsXcTi-"
      },
      "outputs": [],
      "source": [
        "import matplotlib.pyplot as plt\n",
        "plt.plot(r.history['loss'], label='train loss')\n",
        "plt.plot(r.history['val_loss'], label='val loss')\n",
        "plt.legend()\n",
        "plt.show()\n",
        "plt.savefig('LossVal_loss')\n",
        "\n",
        "plt.plot(r.history['accuracy'], label='train acc')\n",
        "plt.plot(r.history['val_accuracy'], label='val acc')\n",
        "plt.legend()\n",
        "plt.show()\n",
        "plt.savefig('AccVal_acc')"
      ]
    },
    {
      "cell_type": "code",
      "execution_count": null,
      "metadata": {
        "id": "ee2LtNxyciW3"
      },
      "outputs": [],
      "source": [
        "model.save('malaria_model.h5')"
      ]
    },
    {
      "cell_type": "code",
      "execution_count": null,
      "metadata": {
        "id": "c4_hzNgqclG5"
      },
      "outputs": [],
      "source": [
        "classnames = train_dataset.class_names\n",
        "classnames\n",
        "plt.figure(figsize = (15,15))\n",
        "for image, label in train_dataset.take(1):\n",
        "    for i in range(12):\n",
        "        plt.subplot(3, 4, i+1)\n",
        "        plt.imshow(image[i].numpy().astype('uint8'))\n",
        "        plt.title(classnames[label[i]])\n",
        "        plt.axis('off')"
      ]
    },
    {
      "cell_type": "code",
      "execution_count": null,
      "metadata": {
        "id": "kA-VZjpjcmvs"
      },
      "outputs": [],
      "source": []
    }
  ],
  "metadata": {
    "colab": {
      "provenance": []
    },
    "kernelspec": {
      "display_name": "Python 3",
      "name": "python3"
    },
    "language_info": {
      "name": "python"
    }
  },
  "nbformat": 4,
  "nbformat_minor": 0
}